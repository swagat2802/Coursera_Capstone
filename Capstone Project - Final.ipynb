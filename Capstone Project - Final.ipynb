{
 "cells": [
  {
   "cell_type": "markdown",
   "metadata": {},
   "source": [
    "## Introduction"
   ]
  },
  {
   "cell_type": "markdown",
   "metadata": {},
   "source": [
    "Project Title: Helping Customers with their first home"
   ]
  },
  {
   "cell_type": "markdown",
   "metadata": {},
   "source": [
    "When buying a new house, most people are concerned about the locality, facilities and restaurants available nearby. \n",
    "The problem in most cities is that people are not able to find the best location to buy a new house.\n",
    "My idea is to use the Foursquare location data to find areas with ample facilities nearby and provide this information to people that can help them to buy a new house.\n",
    "I am working with a leading bank in Ireland. So my plan is to provide this data science drive insights to our customers to buy a new house in Dublin and surrounding areas, and with that provide our mortgage (home loan) product."
   ]
  },
  {
   "cell_type": "markdown",
   "metadata": {},
   "source": [
    "My idea is to consider two different locations in Dublin, and then analyze these areas based on below 5 categories in nearby locations:\n",
    "1. Restaurants\n",
    "2. Park\n",
    "3. Church\n",
    "4. Gym\n",
    "5. University"
   ]
  },
  {
   "cell_type": "markdown",
   "metadata": {},
   "source": [
    "Table of Contents:\n",
    "    1. Analyzing Dublin 4 based on above categories\n",
    "    2. Analyzing Dublin 8 based on above categories\n",
    "    3. Get Trending venues\n",
    "    4. Comparing the results\n",
    "    5. Summary"
   ]
  },
  {
   "cell_type": "markdown",
   "metadata": {},
   "source": [
    "### Import necessary libraries"
   ]
  },
  {
   "cell_type": "code",
   "execution_count": 1,
   "metadata": {},
   "outputs": [
    {
     "name": "stdout",
     "output_type": "stream",
     "text": [
      "Solving environment: done\n",
      "\n",
      "## Package Plan ##\n",
      "\n",
      "  environment location: /opt/conda/envs/Python36\n",
      "\n",
      "  added / updated specs: \n",
      "    - geopy\n",
      "\n",
      "\n",
      "The following packages will be downloaded:\n",
      "\n",
      "    package                    |            build\n",
      "    ---------------------------|-----------------\n",
      "    certifi-2020.4.5.1         |   py36h9f0ad1d_0         151 KB  conda-forge\n",
      "    openssl-1.1.1g             |       h516909a_0         2.1 MB  conda-forge\n",
      "    geographiclib-1.50         |             py_0          34 KB  conda-forge\n",
      "    geopy-1.21.0               |             py_0          58 KB  conda-forge\n",
      "    python_abi-3.6             |          1_cp36m           4 KB  conda-forge\n",
      "    ca-certificates-2020.4.5.1 |       hecc5488_0         146 KB  conda-forge\n",
      "    ------------------------------------------------------------\n",
      "                                           Total:         2.5 MB\n",
      "\n",
      "The following NEW packages will be INSTALLED:\n",
      "\n",
      "    geographiclib:   1.50-py_0         conda-forge\n",
      "    geopy:           1.21.0-py_0       conda-forge\n",
      "    python_abi:      3.6-1_cp36m       conda-forge\n",
      "\n",
      "The following packages will be UPDATED:\n",
      "\n",
      "    ca-certificates: 2020.1.1-0                    --> 2020.4.5.1-hecc5488_0     conda-forge\n",
      "    certifi:         2020.4.5.1-py36_0             --> 2020.4.5.1-py36h9f0ad1d_0 conda-forge\n",
      "    openssl:         1.1.1f-h7b6447c_0             --> 1.1.1g-h516909a_0         conda-forge\n",
      "\n",
      "\n",
      "Downloading and Extracting Packages\n",
      "certifi-2020.4.5.1   | 151 KB    | ##################################### | 100% \n",
      "openssl-1.1.1g       | 2.1 MB    | ##################################### | 100% \n",
      "geographiclib-1.50   | 34 KB     | ##################################### | 100% \n",
      "geopy-1.21.0         | 58 KB     | ##################################### | 100% \n",
      "python_abi-3.6       | 4 KB      | ##################################### | 100% \n",
      "ca-certificates-2020 | 146 KB    | ##################################### | 100% \n",
      "Preparing transaction: done\n",
      "Verifying transaction: done\n",
      "Executing transaction: done\n",
      "Solving environment: done\n",
      "\n",
      "## Package Plan ##\n",
      "\n",
      "  environment location: /opt/conda/envs/Python36\n",
      "\n",
      "  added / updated specs: \n",
      "    - folium=0.5.0\n",
      "\n",
      "\n",
      "The following packages will be downloaded:\n",
      "\n",
      "    package                    |            build\n",
      "    ---------------------------|-----------------\n",
      "    folium-0.5.0               |             py_0          45 KB  conda-forge\n",
      "    vincent-0.4.4              |             py_1          28 KB  conda-forge\n",
      "    branca-0.4.0               |             py_0          26 KB  conda-forge\n",
      "    altair-4.1.0               |             py_1         614 KB  conda-forge\n",
      "    ------------------------------------------------------------\n",
      "                                           Total:         713 KB\n",
      "\n",
      "The following NEW packages will be INSTALLED:\n",
      "\n",
      "    altair:  4.1.0-py_1 conda-forge\n",
      "    branca:  0.4.0-py_0 conda-forge\n",
      "    folium:  0.5.0-py_0 conda-forge\n",
      "    vincent: 0.4.4-py_1 conda-forge\n",
      "\n",
      "\n",
      "Downloading and Extracting Packages\n",
      "folium-0.5.0         | 45 KB     | ##################################### | 100% \n",
      "vincent-0.4.4        | 28 KB     | ##################################### | 100% \n",
      "branca-0.4.0         | 26 KB     | ##################################### | 100% \n",
      "altair-4.1.0         | 614 KB    | ##################################### | 100% \n",
      "Preparing transaction: done\n",
      "Verifying transaction: done\n",
      "Executing transaction: done\n",
      "Folium installed\n",
      "Libraries imported.\n"
     ]
    }
   ],
   "source": [
    "import requests # library to handle requests\n",
    "import pandas as pd # library for data analsysis\n",
    "import numpy as np # library to handle data in a vectorized manner\n",
    "import random # library for random number generation\n",
    "\n",
    "!conda install -c conda-forge geopy --yes \n",
    "from geopy.geocoders import Nominatim # module to convert an address into latitude and longitude values\n",
    "\n",
    "# libraries for displaying images\n",
    "from IPython.display import Image \n",
    "from IPython.core.display import HTML \n",
    "    \n",
    "# tranforming json file into a pandas dataframe library\n",
    "from pandas.io.json import json_normalize\n",
    "\n",
    "!conda install -c conda-forge folium=0.5.0 --yes\n",
    "import folium # plotting library\n",
    "\n",
    "print('Folium installed')\n",
    "print('Libraries imported.')"
   ]
  },
  {
   "cell_type": "markdown",
   "metadata": {},
   "source": [
    "### Define Foursquare Credentials and Version"
   ]
  },
  {
   "cell_type": "code",
   "execution_count": 39,
   "metadata": {},
   "outputs": [
    {
     "name": "stdout",
     "output_type": "stream",
     "text": [
      "Your credentails:\n",
      "CLIENT_ID: A3IMVQQHNHKJ4IG21TD5DTKPLLFKIZTSKNHYCL1B5PQFGBHI\n",
      "CLIENT_SECRET:1AQJ3KKDJ3JPMP3KWSAYJEL0LY5M2C4GQ0NUXIRQQYNFBB12\n"
     ]
    }
   ],
   "source": [
    "CLIENT_ID = 'A3IMVQQHNHKJ4IG21TD5DTKPLLFKIZTSKNHYCL1B5PQFGBHI' # your Foursquare ID\n",
    "CLIENT_SECRET = '1AQJ3KKDJ3JPMP3KWSAYJEL0LY5M2C4GQ0NUXIRQQYNFBB12' # your Foursquare Secret\n",
    "VERSION = '20180604'\n",
    "LIMIT = 30\n",
    "print('Your credentails:')\n",
    "print('CLIENT_ID: ' + CLIENT_ID)\n",
    "print('CLIENT_SECRET:' + CLIENT_SECRET)"
   ]
  },
  {
   "cell_type": "markdown",
   "metadata": {},
   "source": [
    "## Analyze Dublin 4 location"
   ]
  },
  {
   "cell_type": "code",
   "execution_count": 25,
   "metadata": {},
   "outputs": [
    {
     "name": "stdout",
     "output_type": "stream",
     "text": [
      "53.32750729999999 -6.227485885927834\n"
     ]
    }
   ],
   "source": [
    "address1 = 'Dublin 4, Ireland'\n",
    "\n",
    "geolocator = Nominatim(user_agent=\"foursquare_agent\")\n",
    "location = geolocator.geocode(address1)\n",
    "latitude = location.latitude\n",
    "longitude = location.longitude\n",
    "print(latitude, longitude)"
   ]
  },
  {
   "cell_type": "markdown",
   "metadata": {},
   "source": [
    "##### Now, let's analyze this location based on the 5 categories in nearby areas"
   ]
  },
  {
   "cell_type": "code",
   "execution_count": 26,
   "metadata": {},
   "outputs": [],
   "source": [
    "# 1: Restaurants\n",
    "search_query1 = 'restaurant'\n",
    "\n",
    "# 2: Parks\n",
    "search_query2 = 'park'\n",
    "\n",
    "# 3: Church\n",
    "search_query3 = 'church'\n",
    "\n",
    "# 4: Gym\n",
    "search_query4 = 'gym'\n",
    "\n",
    "# 5: College/University\n",
    "search_query5 = 'college university'\n",
    "\n",
    "radius = 500"
   ]
  },
  {
   "cell_type": "markdown",
   "metadata": {},
   "source": [
    "##### Define the corresponding urls"
   ]
  },
  {
   "cell_type": "code",
   "execution_count": 27,
   "metadata": {},
   "outputs": [],
   "source": [
    "# 1: Restaurants\n",
    "url1 = 'https://api.foursquare.com/v2/venues/search?client_id={}&client_secret={}&ll={},{}&v={}&query={}&radius={}&limit={}'.format(CLIENT_ID, CLIENT_SECRET, latitude, longitude, VERSION, search_query1, radius, LIMIT)\n",
    "\n",
    "# 2: Park\n",
    "url2 = 'https://api.foursquare.com/v2/venues/search?client_id={}&client_secret={}&ll={},{}&v={}&query={}&radius={}&limit={}'.format(CLIENT_ID, CLIENT_SECRET, latitude, longitude, VERSION, search_query2, radius, LIMIT)\n",
    "\n",
    "# 3: Church\n",
    "url3 = 'https://api.foursquare.com/v2/venues/search?client_id={}&client_secret={}&ll={},{}&v={}&query={}&radius={}&limit={}'.format(CLIENT_ID, CLIENT_SECRET, latitude, longitude, VERSION, search_query3, radius, LIMIT)\n",
    "\n",
    "# 4: Gym\n",
    "url4 = 'https://api.foursquare.com/v2/venues/search?client_id={}&client_secret={}&ll={},{}&v={}&query={}&radius={}&limit={}'.format(CLIENT_ID, CLIENT_SECRET, latitude, longitude, VERSION, search_query4, radius, LIMIT)\n",
    "\n",
    "# 5: College/University\n",
    "url5 = 'https://api.foursquare.com/v2/venues/search?client_id={}&client_secret={}&ll={},{}&v={}&query={}&radius={}&limit={}'.format(CLIENT_ID, CLIENT_SECRET, latitude, longitude, VERSION, search_query5, radius, LIMIT)"
   ]
  },
  {
   "cell_type": "markdown",
   "metadata": {},
   "source": [
    "##### Send the GET Request and examine the results"
   ]
  },
  {
   "cell_type": "code",
   "execution_count": 28,
   "metadata": {},
   "outputs": [],
   "source": [
    "results1 = requests.get(url1).json()\n",
    "results2 = requests.get(url2).json()\n",
    "results3 = requests.get(url3).json()\n",
    "results4 = requests.get(url4).json()\n",
    "results5 = requests.get(url5).json()"
   ]
  },
  {
   "cell_type": "markdown",
   "metadata": {},
   "source": [
    "##### Get relevant part of JSON and transform it into a pandas dataframe"
   ]
  },
  {
   "cell_type": "code",
   "execution_count": 29,
   "metadata": {},
   "outputs": [],
   "source": [
    "# assign relevant part of JSON to venues\n",
    "venues1 = results1['response']['venues']\n",
    "venues2 = results2['response']['venues']\n",
    "venues3 = results3['response']['venues']\n",
    "venues4 = results4['response']['venues']\n",
    "venues5 = results5['response']['venues']\n",
    "\n",
    "# tranform venues into a dataframe\n",
    "dataframe1 = json_normalize(venues1)\n",
    "dataframe2 = json_normalize(venues2)\n",
    "dataframe3 = json_normalize(venues3)\n",
    "dataframe4 = json_normalize(venues4)\n",
    "dataframe5 = json_normalize(venues5)"
   ]
  },
  {
   "cell_type": "markdown",
   "metadata": {},
   "source": [
    "##### Define information of interest and filter dataframe"
   ]
  },
  {
   "cell_type": "code",
   "execution_count": 30,
   "metadata": {},
   "outputs": [],
   "source": [
    "# keep only columns that include venue name, and anything that is associated with location\n",
    "filtered_columns1 = ['name', 'categories'] + [col for col in dataframe1.columns if col.startswith('location.')] + ['id']\n",
    "dataframe_filtered1 = dataframe1.loc[:, filtered_columns1]\n",
    "\n",
    "filtered_columns2 = ['name', 'categories'] + [col for col in dataframe2.columns if col.startswith('location.')] + ['id']\n",
    "dataframe_filtered2 = dataframe2.loc[:, filtered_columns2]\n",
    "\n",
    "filtered_columns3 = ['name', 'categories'] + [col for col in dataframe3.columns if col.startswith('location.')] + ['id']\n",
    "dataframe_filtered3 = dataframe3.loc[:, filtered_columns3]\n",
    "\n",
    "filtered_columns4 = ['name', 'categories'] + [col for col in dataframe4.columns if col.startswith('location.')] + ['id']\n",
    "dataframe_filtered4 = dataframe4.loc[:, filtered_columns4]\n",
    "\n",
    "filtered_columns5 = ['name', 'categories'] + [col for col in dataframe5.columns if col.startswith('location.')] + ['id']\n",
    "dataframe_filtered5 = dataframe5.loc[:, filtered_columns5]\n",
    "\n",
    "# function that extracts the category of the venue\n",
    "def get_category_type(row):\n",
    "    try:\n",
    "        categories_list = row['categories']\n",
    "    except:\n",
    "        categories_list = row['venue.categories']\n",
    "        \n",
    "    if len(categories_list) == 0:\n",
    "        return None\n",
    "    else:\n",
    "        return categories_list[0]['name']\n",
    "\n",
    "# filter the category for each row\n",
    "dataframe_filtered1['categories'] = dataframe_filtered1.apply(get_category_type, axis=1)\n",
    "dataframe_filtered2['categories'] = dataframe_filtered2.apply(get_category_type, axis=1)\n",
    "dataframe_filtered3['categories'] = dataframe_filtered3.apply(get_category_type, axis=1)\n",
    "dataframe_filtered4['categories'] = dataframe_filtered4.apply(get_category_type, axis=1)\n",
    "dataframe_filtered5['categories'] = dataframe_filtered5.apply(get_category_type, axis=1)\n",
    "\n",
    "# clean column names by keeping only last term\n",
    "dataframe_filtered1.columns = [column.split('.')[-1] for column in dataframe_filtered1.columns]\n",
    "dataframe_filtered2.columns = [column.split('.')[-1] for column in dataframe_filtered2.columns]\n",
    "dataframe_filtered3.columns = [column.split('.')[-1] for column in dataframe_filtered3.columns]\n",
    "dataframe_filtered4.columns = [column.split('.')[-1] for column in dataframe_filtered4.columns]\n",
    "dataframe_filtered5.columns = [column.split('.')[-1] for column in dataframe_filtered5.columns]"
   ]
  },
  {
   "cell_type": "markdown",
   "metadata": {},
   "source": [
    "## Analyze Dublin 2 location"
   ]
  },
  {
   "cell_type": "code",
   "execution_count": 47,
   "metadata": {},
   "outputs": [
    {
     "name": "stdout",
     "output_type": "stream",
     "text": [
      "53.33894015 -6.252712821759609\n"
     ]
    }
   ],
   "source": [
    "## Analyze Dublin 2 location\n",
    "\n",
    "address1 = 'Dublin 2, Ireland'\n",
    "\n",
    "geolocator = Nominatim(user_agent=\"foursquare_agent\")\n",
    "location = geolocator.geocode(address1)\n",
    "latitude = location.latitude\n",
    "longitude = location.longitude\n",
    "print(latitude, longitude)"
   ]
  },
  {
   "cell_type": "markdown",
   "metadata": {},
   "source": [
    "##### Now, let's analyze this location based on the 5 categories in nearby areas"
   ]
  },
  {
   "cell_type": "code",
   "execution_count": 48,
   "metadata": {},
   "outputs": [],
   "source": [
    "# 1: Restaurants\n",
    "search_query1 = 'restaurant'\n",
    "\n",
    "# 2: Parks\n",
    "search_query2 = 'park'\n",
    "\n",
    "# 3: Church\n",
    "search_query3 = 'church'\n",
    "\n",
    "# 4: Gym\n",
    "search_query4 = 'gym'\n",
    "\n",
    "# 5: College/University\n",
    "search_query5 = 'college university'\n",
    "\n",
    "radius = 500"
   ]
  },
  {
   "cell_type": "markdown",
   "metadata": {},
   "source": [
    "##### Define the corresponding urls"
   ]
  },
  {
   "cell_type": "code",
   "execution_count": 49,
   "metadata": {},
   "outputs": [],
   "source": [
    "# 1: Restaurants\n",
    "url1 = 'https://api.foursquare.com/v2/venues/search?client_id={}&client_secret={}&ll={},{}&v={}&query={}&radius={}&limit={}'.format(CLIENT_ID, CLIENT_SECRET, latitude, longitude, VERSION, search_query1, radius, LIMIT)\n",
    "\n",
    "# 2: Park\n",
    "url2 = 'https://api.foursquare.com/v2/venues/search?client_id={}&client_secret={}&ll={},{}&v={}&query={}&radius={}&limit={}'.format(CLIENT_ID, CLIENT_SECRET, latitude, longitude, VERSION, search_query2, radius, LIMIT)\n",
    "\n",
    "# 3: Church\n",
    "url3 = 'https://api.foursquare.com/v2/venues/search?client_id={}&client_secret={}&ll={},{}&v={}&query={}&radius={}&limit={}'.format(CLIENT_ID, CLIENT_SECRET, latitude, longitude, VERSION, search_query3, radius, LIMIT)\n",
    "\n",
    "# 4: Gym\n",
    "url4 = 'https://api.foursquare.com/v2/venues/search?client_id={}&client_secret={}&ll={},{}&v={}&query={}&radius={}&limit={}'.format(CLIENT_ID, CLIENT_SECRET, latitude, longitude, VERSION, search_query4, radius, LIMIT)\n",
    "\n",
    "# 5: College/University\n",
    "url5 = 'https://api.foursquare.com/v2/venues/search?client_id={}&client_secret={}&ll={},{}&v={}&query={}&radius={}&limit={}'.format(CLIENT_ID, CLIENT_SECRET, latitude, longitude, VERSION, search_query5, radius, LIMIT)"
   ]
  },
  {
   "cell_type": "markdown",
   "metadata": {},
   "source": [
    "##### Send the GET Request and examine the results"
   ]
  },
  {
   "cell_type": "code",
   "execution_count": 50,
   "metadata": {},
   "outputs": [],
   "source": [
    "results1 = requests.get(url1).json()\n",
    "results2 = requests.get(url2).json()\n",
    "results3 = requests.get(url3).json()\n",
    "results4 = requests.get(url4).json()\n",
    "results5 = requests.get(url5).json()"
   ]
  },
  {
   "cell_type": "markdown",
   "metadata": {},
   "source": [
    "##### Get relevant part of JSON and transform it into a pandas dataframe"
   ]
  },
  {
   "cell_type": "code",
   "execution_count": 51,
   "metadata": {},
   "outputs": [],
   "source": [
    "# assign relevant part of JSON to venues\n",
    "venues1 = results1['response']['venues']\n",
    "venues2 = results2['response']['venues']\n",
    "venues3 = results3['response']['venues']\n",
    "venues4 = results4['response']['venues']\n",
    "venues5 = results5['response']['venues']\n",
    "\n",
    "# tranform venues into a dataframe\n",
    "dataframe1 = json_normalize(venues1)\n",
    "dataframe2 = json_normalize(venues2)\n",
    "dataframe3 = json_normalize(venues3)\n",
    "dataframe4 = json_normalize(venues4)\n",
    "dataframe5 = json_normalize(venues5)"
   ]
  },
  {
   "cell_type": "markdown",
   "metadata": {},
   "source": [
    "##### Define information of interest and filter dataframe"
   ]
  },
  {
   "cell_type": "code",
   "execution_count": 52,
   "metadata": {},
   "outputs": [],
   "source": [
    "# keep only columns that include venue name, and anything that is associated with location\n",
    "filtered_columns1 = ['name', 'categories'] + [col for col in dataframe1.columns if col.startswith('location.')] + ['id']\n",
    "dataframe_filtered1 = dataframe1.loc[:, filtered_columns1]\n",
    "\n",
    "filtered_columns2 = ['name', 'categories'] + [col for col in dataframe2.columns if col.startswith('location.')] + ['id']\n",
    "dataframe_filtered2 = dataframe2.loc[:, filtered_columns2]\n",
    "\n",
    "filtered_columns3 = ['name', 'categories'] + [col for col in dataframe3.columns if col.startswith('location.')] + ['id']\n",
    "dataframe_filtered3 = dataframe3.loc[:, filtered_columns3]\n",
    "\n",
    "filtered_columns4 = ['name', 'categories'] + [col for col in dataframe4.columns if col.startswith('location.')] + ['id']\n",
    "dataframe_filtered4 = dataframe4.loc[:, filtered_columns4]\n",
    "\n",
    "filtered_columns5 = ['name', 'categories'] + [col for col in dataframe5.columns if col.startswith('location.')] + ['id']\n",
    "dataframe_filtered5 = dataframe5.loc[:, filtered_columns5]\n",
    "\n",
    "# function that extracts the category of the venue\n",
    "def get_category_type(row):\n",
    "    try:\n",
    "        categories_list = row['categories']\n",
    "    except:\n",
    "        categories_list = row['venue.categories']\n",
    "        \n",
    "    if len(categories_list) == 0:\n",
    "        return None\n",
    "    else:\n",
    "        return categories_list[0]['name']\n",
    "\n",
    "# filter the category for each row\n",
    "dataframe_filtered1['categories'] = dataframe_filtered1.apply(get_category_type, axis=1)\n",
    "dataframe_filtered2['categories'] = dataframe_filtered2.apply(get_category_type, axis=1)\n",
    "dataframe_filtered3['categories'] = dataframe_filtered3.apply(get_category_type, axis=1)\n",
    "dataframe_filtered4['categories'] = dataframe_filtered4.apply(get_category_type, axis=1)\n",
    "dataframe_filtered5['categories'] = dataframe_filtered5.apply(get_category_type, axis=1)\n",
    "\n",
    "# clean column names by keeping only last term\n",
    "dataframe_filtered1.columns = [column.split('.')[-1] for column in dataframe_filtered1.columns]\n",
    "dataframe_filtered2.columns = [column.split('.')[-1] for column in dataframe_filtered2.columns]\n",
    "dataframe_filtered3.columns = [column.split('.')[-1] for column in dataframe_filtered3.columns]\n",
    "dataframe_filtered4.columns = [column.split('.')[-1] for column in dataframe_filtered4.columns]\n",
    "dataframe_filtered5.columns = [column.split('.')[-1] for column in dataframe_filtered5.columns]"
   ]
  },
  {
   "cell_type": "markdown",
   "metadata": {},
   "source": [
    "## Let's summarize each of the categories in both locations of Dublin 2 and DUblin 4 (IRELAND)\n"
   ]
  },
  {
   "cell_type": "code",
   "execution_count": 55,
   "metadata": {},
   "outputs": [
    {
     "name": "stdout",
     "output_type": "stream",
     "text": [
      "Location: Dublin 4, Ireland - \n",
      "Restaurants: 23\n",
      "Parks: 15\n",
      "Church: 8\n",
      "Gym 5\n",
      "College/University 30\n",
      "Location: Dublin 2, Ireland - \n",
      "Restaurants: 23\n",
      "Parks: 15\n",
      "Church: 8\n",
      "Gym 5\n",
      "College/University 30\n"
     ]
    }
   ],
   "source": [
    "categ1 = dataframe_filtered1['name'].count()\n",
    "categ2 = dataframe_filtered2['name'].count()\n",
    "categ3 = dataframe_filtered3['name'].count()\n",
    "categ4 = dataframe_filtered4['name'].count()\n",
    "categ5 = dataframe_filtered5['name'].count()\n",
    "\n",
    "print(\"Location: Dublin 4, Ireland - \")\n",
    "print(\"Restaurants:\",categ1)\n",
    "print(\"Parks:\",categ2)\n",
    "print(\"Church:\",categ3)\n",
    "print(\"Gym\",categ4)\n",
    "print(\"College/University\",categ5)\n",
    "\n",
    "categ6 = dataframe_filtered1['name'].count()\n",
    "categ7 = dataframe_filtered2['name'].count()\n",
    "categ8 = dataframe_filtered3['name'].count()\n",
    "categ9 = dataframe_filtered4['name'].count()\n",
    "categ10 = dataframe_filtered5['name'].count()\n",
    "\n",
    "print(\"Location: Dublin 2, Ireland - \")\n",
    "print(\"Restaurants:\",categ6)\n",
    "print(\"Parks:\",categ7)\n",
    "print(\"Church:\",categ8)\n",
    "print(\"Gym\",categ9)\n",
    "print(\"College/University\",categ10)"
   ]
  },
  {
   "cell_type": "markdown",
   "metadata": {},
   "source": [
    "### Final Result: Based on above output values between Dublin 2 and Dublin 4 can help the customers to pick the best location to buy their new home."
   ]
  },
  {
   "cell_type": "code",
   "execution_count": null,
   "metadata": {},
   "outputs": [],
   "source": []
  }
 ],
 "metadata": {
  "kernelspec": {
   "display_name": "Python 3.6",
   "language": "python",
   "name": "python3"
  },
  "language_info": {
   "codemirror_mode": {
    "name": "ipython",
    "version": 3
   },
   "file_extension": ".py",
   "mimetype": "text/x-python",
   "name": "python",
   "nbconvert_exporter": "python",
   "pygments_lexer": "ipython3",
   "version": "3.6.9"
  }
 },
 "nbformat": 4,
 "nbformat_minor": 1
}
